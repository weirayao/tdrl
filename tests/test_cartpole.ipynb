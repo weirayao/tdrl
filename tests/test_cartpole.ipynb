{
 "cells": [
  {
   "cell_type": "markdown",
   "metadata": {},
   "source": [
    "## Few-Shot Transfer under Changing Causal Dynamics"
   ]
  },
  {
   "cell_type": "code",
   "execution_count": 1,
   "metadata": {},
   "outputs": [],
   "source": [
    "%load_ext autoreload\n",
    "%autoreload 2"
   ]
  },
  {
   "cell_type": "code",
   "execution_count": 2,
   "metadata": {},
   "outputs": [],
   "source": [
    "import torch\n",
    "import torch.nn as nn\n",
    "import torch.nn.functional as F\n",
    "from torch.utils.data import DataLoader, random_split\n",
    "import leap\n",
    "import numpy as np\n",
    "import scipy\n",
    "from LiLY.datasets.cartpole import CartpoleDataset\n",
    "from LiLY.modules.cartpole import ModularShifts\n",
    "from LiLY.modules.metrics.correlation import correlation\n",
    "import random\n",
    "import seaborn as sns\n",
    "from torchvision import transforms\n",
    "from torchvision.utils import save_image, make_grid\n",
    "from leap.tools.utils import load_yaml\n",
    "import matplotlib.pyplot as plt\n",
    "%matplotlib inline"
   ]
  },
  {
   "cell_type": "code",
   "execution_count": 140,
   "metadata": {},
   "outputs": [],
   "source": [
    "data = CartpoleDataset(directory = '/srv/data/lily/data', \n",
    "                       dataset='cartpole')\n",
    "num_validation_samples = 2500\n",
    "train_data, val_data = random_split(data, [len(data)-num_validation_samples, num_validation_samples])\n",
    "train_loader = DataLoader(train_data, batch_size=1280, shuffle=True, pin_memory=True)\n",
    "val_loader   = DataLoader(val_data, batch_size=16, shuffle=False, pin_memory=True)"
   ]
  },
  {
   "cell_type": "code",
   "execution_count": 4,
   "metadata": {},
   "outputs": [],
   "source": [
    "cfg = load_yaml('../LiLY/configs/cartpole.yaml')"
   ]
  },
  {
   "cell_type": "code",
   "execution_count": 5,
   "metadata": {},
   "outputs": [
    {
     "ename": "NameError",
     "evalue": "name 'model' is not defined",
     "output_type": "error",
     "traceback": [
      "\u001b[0;31m---------------------------------------------------------------------------\u001b[0m",
      "\u001b[0;31mNameError\u001b[0m                                 Traceback (most recent call last)",
      "\u001b[0;32m/tmp/ipykernel_24395/2385398387.py\u001b[0m in \u001b[0;36m<module>\u001b[0;34m\u001b[0m\n\u001b[0;32m----> 1\u001b[0;31m \u001b[0;32mfor\u001b[0m \u001b[0mparam\u001b[0m \u001b[0;32min\u001b[0m \u001b[0mmodel\u001b[0m\u001b[0;34m.\u001b[0m\u001b[0mparameters\u001b[0m\u001b[0;34m(\u001b[0m\u001b[0;34m)\u001b[0m\u001b[0;34m:\u001b[0m\u001b[0;34m\u001b[0m\u001b[0;34m\u001b[0m\u001b[0m\n\u001b[0m\u001b[1;32m      2\u001b[0m     \u001b[0mparam\u001b[0m\u001b[0;34m.\u001b[0m\u001b[0mrequires_grad\u001b[0m \u001b[0;34m=\u001b[0m \u001b[0;32mFalse\u001b[0m\u001b[0;34m\u001b[0m\u001b[0;34m\u001b[0m\u001b[0m\n",
      "\u001b[0;31mNameError\u001b[0m: name 'model' is not defined"
     ]
    }
   ],
   "source": [
    "for param in model.parameters():\n",
    "    param.requires_grad = False"
   ]
  },
  {
   "cell_type": "code",
   "execution_count": 6,
   "metadata": {},
   "outputs": [
    {
     "name": "stderr",
     "output_type": "stream",
     "text": [
      "/home/weiran/project/LiLY/LiLY/modules/components/beta.py:299: UserWarning: nn.init.kaiming_normal is now deprecated in favor of nn.init.kaiming_normal_.\n",
      "  init.kaiming_normal(m.weight)\n"
     ]
    }
   ],
   "source": [
    "model = ModularShifts.load_from_checkpoint(checkpoint_path='/srv/data/lily/log/weiran/cartpole/z=1_seed1/checkpoints/epoch=7-step=6968.ckpt',\n",
    "input_dim=cfg['VAE']['INPUT_DIM'],\n",
    "                          length=cfg['VAE']['LENGTH'],\n",
    "                          obs_dim=cfg['VAE']['OBS_DIM'],\n",
    "                          dyn_dim=cfg['VAE']['DYN_DIM'],\n",
    "                          lag=cfg['VAE']['LAG'],\n",
    "                          nclass=cfg['VAE']['NCLASS'],\n",
    "                          hidden_dim=cfg['VAE']['ENC']['HIDDEN_DIM'],\n",
    "                          dyn_embedding_dim=cfg['VAE']['DYN_EMBED_DIM'],\n",
    "                          obs_embedding_dim=cfg['VAE']['OBS_EMBED_DIM'],\n",
    "                          trans_prior=cfg['VAE']['TRANS_PRIOR'],\n",
    "                          lr=cfg['VAE']['LR'],\n",
    "                          infer_mode=cfg['VAE']['INFER_MODE'],\n",
    "                          beta=cfg['VAE']['BETA'],\n",
    "                          gamma=cfg['VAE']['GAMMA'],\n",
    "                          sigma=cfg['VAE']['SIMGA'],\n",
    "                          decoder_dist=cfg['VAE']['DEC']['DIST'],\n",
    "                          correlation=cfg['MCC']['CORR'])"
   ]
  },
  {
   "cell_type": "code",
   "execution_count": 7,
   "metadata": {},
   "outputs": [],
   "source": [
    "batch = next(iter(train_loader))\n",
    "batch_size = batch['xt'].shape[0]"
   ]
  },
  {
   "cell_type": "code",
   "execution_count": 114,
   "metadata": {},
   "outputs": [
    {
     "data": {
      "text/plain": [
       "tensor([[-2.0911],\n",
       "        [-0.4138],\n",
       "        [-0.5196],\n",
       "        ...,\n",
       "        [ 0.3963],\n",
       "        [-0.5553],\n",
       "        [-0.5196]], grad_fn=<EmbeddingBackward>)"
      ]
     },
     "execution_count": 114,
     "metadata": {},
     "output_type": "execute_result"
    }
   ],
   "source": [
    "model.dyn_embed_func(batch['ct'])"
   ]
  },
  {
   "cell_type": "code",
   "execution_count": 124,
   "metadata": {},
   "outputs": [],
   "source": [
    "embeddings = np.array([-0.3963, -0.4138, -0.4208,  -0.4741, -0.5553, -0.5788, ])"
   ]
  },
  {
   "cell_type": "code",
   "execution_count": 125,
   "metadata": {},
   "outputs": [],
   "source": [
    "gravity = np.array([5, 10, 15, 20, 25, 30])"
   ]
  },
  {
   "cell_type": "code",
   "execution_count": 139,
   "metadata": {},
   "outputs": [
    {
     "name": "stderr",
     "output_type": "stream",
     "text": [
      "No handles with labels found to put in legend.\n"
     ]
    },
    {
     "data": {
      "image/png": "[encoded data removed]",
      "text/plain": [
       "<Figure size 288x144 with 1 Axes>"
      ]
     },
     "metadata": {
      "needs_background": "light"
     },
     "output_type": "display_data"
    }
   ],
   "source": [
    "fig = plt.figure(figsize=(4,2))\n",
    "plt.plot(gravity, embeddings, marker='o', color='b')\n",
    "plt.xlabel('Gravity')\n",
    "plt.ylabel(r'$\\hat{\\theta}_{k}^{dyn}$')\n",
    "plt.legend()\n",
    "plt.grid(':')"
   ]
  },
  {
   "cell_type": "code",
   "execution_count": 115,
   "metadata": {
    "scrolled": true
   },
   "outputs": [
    {
     "data": {
      "text/plain": [
       "[Parameter containing:\n",
       " tensor([[-0.4138],\n",
       "         [-0.4208],\n",
       "         [-0.5553],\n",
       "         [ 0.4741],\n",
       "         [-0.5788],\n",
       "         [ 0.3963],\n",
       "         [-2.0911],\n",
       "         [-0.5196],\n",
       "         [-0.7424],\n",
       "         [-0.5470],\n",
       "         [ 1.0937],\n",
       "         [-0.9748],\n",
       "         [ 1.8372],\n",
       "         [-0.6070],\n",
       "         [ 0.7311],\n",
       "         [-0.5922],\n",
       "         [-1.9625],\n",
       "         [ 0.5205],\n",
       "         [ 1.6270],\n",
       "         [ 0.9735],\n",
       "         [-0.4945],\n",
       "         [-0.9769],\n",
       "         [-0.1112],\n",
       "         [-1.6353],\n",
       "         [-0.0905],\n",
       "         [-0.3923],\n",
       "         [-0.6624],\n",
       "         [ 1.3552],\n",
       "         [-0.1739]], requires_grad=True)]"
      ]
     },
     "execution_count": 115,
     "metadata": {},
     "output_type": "execute_result"
    }
   ],
   "source": [
    "list(model.dyn_embed_func.parameters())"
   ]
  },
  {
   "cell_type": "code",
   "execution_count": 8,
   "metadata": {},
   "outputs": [],
   "source": [
    "latent_size = 8"
   ]
  },
  {
   "cell_type": "code",
   "execution_count": 11,
   "metadata": {},
   "outputs": [],
   "source": [
    "from LiLY.modules.metrics.correlation import correlation"
   ]
  },
  {
   "cell_type": "code",
   "execution_count": 14,
   "metadata": {},
   "outputs": [],
   "source": [
    "z, mu, logvar = model.forward(batch)\n",
    "mu = mu.view(batch_size, -1, latent_size)\n",
    "A = mu[:,0,:].detach().cpu().numpy().T\n",
    "B = batch['yt'][:,0,:].detach().cpu().numpy().T\n",
    "result = np.zeros(A.shape)\n",
    "result[:B.shape[0],:B.shape[1]] = B\n",
    "for i in range(len(A) - len(B)):\n",
    "    result[B.shape[0] + i, :] = np.random.normal(size=B.shape[1])\n",
    "    \n",
    "corr_sorted, sort_idx, mu_sorted = correlation(A, result, method='Spearman')"
   ]
  },
  {
   "cell_type": "code",
   "execution_count": 15,
   "metadata": {},
   "outputs": [],
   "source": [
    "figure_path = '/home/weiran/figs/'\n",
    "from matplotlib.backends.backend_pdf import PdfPages"
   ]
  },
  {
   "cell_type": "code",
   "execution_count": 30,
   "metadata": {},
   "outputs": [
    {
     "name": "stdout",
     "output_type": "stream",
     "text": [
      "Permutation: [7 0 6]\n"
     ]
    }
   ],
   "source": [
    "col_ind = sort_idx[:3].astype('int')\n",
    "print('Permutation:', col_ind)"
   ]
  },
  {
   "cell_type": "code",
   "execution_count": 31,
   "metadata": {},
   "outputs": [
    {
     "data": {
      "image/png": "[encoded data removed]",
      "text/plain": [
       "<Figure size 108x108 with 1 Axes>"
      ]
     },
     "metadata": {
      "needs_background": "light"
     },
     "output_type": "display_data"
    }
   ],
   "source": [
    "with PdfPages(figure_path + '/mcc_cartpole.pdf') as pdf:\n",
    "    fig = plt.figure(figsize=(1.5,1.5))\n",
    "    sns.heatmap(np.abs(corr_sorted[:2,:2]), vmin=0, vmax=1, annot=True, fmt=\".2f\", linewidths=.5, cbar=False, cmap='Greens')\n",
    "    plt.xlabel(\"True Latents \") \n",
    "    plt.ylabel(\"Estimated Latents \")\n",
    "    plt.title(\"MCC=%.3f\"%np.abs(np.diag(corr_sorted)[:2]).mean())\n",
    "    pdf.savefig(fig, bbox_inches=\"tight\")"
   ]
  },
  {
   "cell_type": "code",
   "execution_count": 33,
   "metadata": {},
   "outputs": [
    {
     "data": {
      "image/png": "[encoded data removed]",
      "text/plain": [
       "<Figure size 72x108 with 2 Axes>"
      ]
     },
     "metadata": {
      "needs_background": "light"
     },
     "output_type": "display_data"
    }
   ],
   "source": [
    "with PdfPages(figure_path + '/xy_cartpole.pdf') as pdf:\n",
    "    fig, axs = plt.subplots(2,1, figsize=(1,1.5))\n",
    "    for i in range(2):\n",
    "        ax = axs[i]\n",
    "        ax.scatter(B.T[:,i], A.T[:,col_ind[i]], s=5, color='b', alpha=0.25)\n",
    "        ax.axis('off')\n",
    "    pdf.savefig(fig, bbox_inches=\"tight\")"
   ]
  },
  {
   "cell_type": "code",
   "execution_count": 112,
   "metadata": {
    "scrolled": true
   },
   "outputs": [
    {
     "data": {
      "text/plain": [
       "[Parameter containing:\n",
       " tensor([[-0.4138],\n",
       "         [-0.4208],\n",
       "         [-0.5553],\n",
       "         [ 0.4741],\n",
       "         [-0.5788],\n",
       "         [ 0.3963],\n",
       "         [-2.0911],\n",
       "         [-0.5196],\n",
       "         [-0.7424],\n",
       "         [-0.5470],\n",
       "         [ 1.0937],\n",
       "         [-0.9748],\n",
       "         [ 1.8372],\n",
       "         [-0.6070],\n",
       "         [ 0.7311],\n",
       "         [-0.5922],\n",
       "         [-1.9625],\n",
       "         [ 0.5205],\n",
       "         [ 1.6270],\n",
       "         [ 0.9735],\n",
       "         [-0.4945],\n",
       "         [-0.9769],\n",
       "         [-0.1112],\n",
       "         [-1.6353],\n",
       "         [-0.0905],\n",
       "         [-0.3923],\n",
       "         [-0.6624],\n",
       "         [ 1.3552],\n",
       "         [-0.1739]], requires_grad=True)]"
      ]
     },
     "execution_count": 112,
     "metadata": {},
     "output_type": "execute_result"
    }
   ],
   "source": [
    "list(model.dyn_embed_func.parameters())"
   ]
  },
  {
   "cell_type": "code",
   "execution_count": 106,
   "metadata": {},
   "outputs": [
    {
     "data": {
      "text/plain": [
       "tensor([[-0.4138],\n",
       "        [-0.4208],\n",
       "        [-0.5553],\n",
       "        [ 0.4741],\n",
       "        [-0.5788],\n",
       "        [ 0.3963],\n",
       "        [-2.0911],\n",
       "        [-0.5196],\n",
       "        [-0.7424]], grad_fn=<EmbeddingBackward>)"
      ]
     },
     "execution_count": 106,
     "metadata": {},
     "output_type": "execute_result"
    }
   ],
   "source": [
    "model.dyn_embed_func(torch.LongTensor((0,1,2,3,4,5,6,7,8)))"
   ]
  },
  {
   "cell_type": "code",
   "execution_count": 67,
   "metadata": {},
   "outputs": [],
   "source": [
    "fixed_img = torch.tensor(data.__getitem__(205)['xt'], device='cpu')\n",
    "x_recon_img, mu_img, logvar_img, z_img = model.net(fixed_img)"
   ]
  },
  {
   "cell_type": "code",
   "execution_count": 68,
   "metadata": {},
   "outputs": [],
   "source": [
    "from torchvision.utils import save_image, make_grid"
   ]
  },
  {
   "cell_type": "code",
   "execution_count": 69,
   "metadata": {},
   "outputs": [],
   "source": [
    "def show(img):\n",
    "    npimg = img.numpy()\n",
    "    plt.imshow(np.transpose(npimg, (1,2,0)), interpolation='nearest')"
   ]
  },
  {
   "cell_type": "code",
   "execution_count": 70,
   "metadata": {},
   "outputs": [
    {
     "name": "stderr",
     "output_type": "stream",
     "text": [
      "Clipping input data to the valid range for imshow with RGB data ([0..1] for floats or [0..255] for integers).\n"
     ]
    },
    {
     "data": {
      "image/png": "[encoded data removed]",
      "text/plain": [
       "<Figure size 432x288 with 1 Axes>"
      ]
     },
     "metadata": {
      "needs_background": "light"
     },
     "output_type": "display_data"
    }
   ],
   "source": [
    "show(make_grid(x_recon_img))"
   ]
  },
  {
   "cell_type": "code",
   "execution_count": 92,
   "metadata": {},
   "outputs": [],
   "source": [
    "from torch.distributions.normal import Normal\n",
    "lowest_prob = 0.05\n",
    "n_steps = 4\n",
    "normals = [Normal(z[:, i].mean(), z[:, i].std()) for i in range(8)]\n",
    "interpolation = torch.linspace(lowest_prob, 1 - lowest_prob, steps=n_steps)"
   ]
  },
  {
   "cell_type": "code",
   "execution_count": 95,
   "metadata": {},
   "outputs": [
    {
     "name": "stderr",
     "output_type": "stream",
     "text": [
      "Clipping input data to the valid range for imshow with RGB data ([0..1] for floats or [0..255] for integers).\n"
     ]
    },
    {
     "data": {
      "image/png": "[encoded data removed]",
      "text/plain": [
       "<Figure size 288x72 with 1 Axes>"
      ]
     },
     "metadata": {
      "needs_background": "light"
     },
     "output_type": "display_data"
    }
   ],
   "source": [
    "from torch.distributions.normal import Normal\n",
    "traverse_idx = col_ind[1]\n",
    "with PdfPages(figure_path + '/traversal_cart_%d.pdf'%traverse_idx) as pdf:\n",
    "    mus = normals[traverse_idx].icdf(interpolation)\n",
    "    samples = [ ]\n",
    "    for step in range(n_steps):\n",
    "        z_trav = mu_img.clone()\n",
    "        z_trav[0, traverse_idx] = mus[step]\n",
    "        sample = model.net._decode(z_trav).data\n",
    "        samples.append(sample[0].detach().cpu())\n",
    "    fig = plt.figure(figsize=(n_steps*1,1))\n",
    "    show(make_grid(samples, pad_value=1, nrow=n_steps))\n",
    "    plt.axis('off');\n",
    "    pdf.savefig(fig, bbox_inches=\"tight\")"
   ]
  },
  {
   "cell_type": "code",
   "execution_count": 72,
   "metadata": {},
   "outputs": [],
   "source": [
    "mu_img = mu_img.detach()"
   ]
  },
  {
   "cell_type": "code",
   "execution_count": 82,
   "metadata": {},
   "outputs": [],
   "source": [
    "mu_img = mu_img[0:1]"
   ]
  },
  {
   "cell_type": "code",
   "execution_count": 38,
   "metadata": {},
   "outputs": [
    {
     "data": {
      "text/plain": [
       "tensor(-1.2232, grad_fn=<MinBackward1>)"
      ]
     },
     "execution_count": 38,
     "metadata": {},
     "output_type": "execute_result"
    }
   ],
   "source": [
    "x_recon_img.min()"
   ]
  },
  {
   "cell_type": "code",
   "execution_count": 36,
   "metadata": {},
   "outputs": [
    {
     "data": {
      "text/plain": [
       "tensor([[[1., 1., 1.,  ..., 1., 1., 1.],\n",
       "         [1., 1., 1.,  ..., 1., 1., 1.],\n",
       "         [1., 1., 1.,  ..., 1., 1., 1.],\n",
       "         ...,\n",
       "         [1., 1., 1.,  ..., 1., 1., 1.],\n",
       "         [1., 1., 1.,  ..., 1., 1., 1.],\n",
       "         [1., 1., 1.,  ..., 1., 1., 1.]]])"
      ]
     },
     "execution_count": 36,
     "metadata": {},
     "output_type": "execute_result"
    }
   ],
   "source": [
    "fixed_img[0]"
   ]
  },
  {
   "cell_type": "code",
   "execution_count": 35,
   "metadata": {},
   "outputs": [
    {
     "data": {
      "text/plain": [
       "torch.Size([3, 1, 128, 128])"
      ]
     },
     "execution_count": 35,
     "metadata": {},
     "output_type": "execute_result"
    }
   ],
   "source": [
    "x_recon_img.shape"
   ]
  },
  {
   "cell_type": "code",
   "execution_count": null,
   "metadata": {},
   "outputs": [],
   "source": []
  },
  {
   "cell_type": "code",
   "execution_count": 10,
   "metadata": {},
   "outputs": [
    {
     "ename": "ValueError",
     "evalue": "could not broadcast input array from shape (2,) into shape (8,)",
     "output_type": "error",
     "traceback": [
      "\u001b[0;31m---------------------------------------------------------------------------\u001b[0m",
      "\u001b[0;31mValueError\u001b[0m                                Traceback (most recent call last)",
      "\u001b[0;32m/tmp/ipykernel_24395/2767030879.py\u001b[0m in \u001b[0;36m<module>\u001b[0;34m\u001b[0m\n\u001b[1;32m      5\u001b[0m \u001b[0mC\u001b[0m \u001b[0;34m=\u001b[0m \u001b[0mnp\u001b[0m\u001b[0;34m.\u001b[0m\u001b[0mzeros\u001b[0m\u001b[0;34m(\u001b[0m\u001b[0;34m(\u001b[0m\u001b[0mlatent_size\u001b[0m\u001b[0;34m,\u001b[0m\u001b[0mlatent_size\u001b[0m\u001b[0;34m)\u001b[0m\u001b[0;34m)\u001b[0m\u001b[0;34m\u001b[0m\u001b[0;34m\u001b[0m\u001b[0m\n\u001b[1;32m      6\u001b[0m \u001b[0;32mfor\u001b[0m \u001b[0mi\u001b[0m \u001b[0;32min\u001b[0m \u001b[0mrange\u001b[0m\u001b[0;34m(\u001b[0m\u001b[0mlatent_size\u001b[0m\u001b[0;34m)\u001b[0m\u001b[0;34m:\u001b[0m\u001b[0;34m\u001b[0m\u001b[0;34m\u001b[0m\u001b[0m\n\u001b[0;32m----> 7\u001b[0;31m     \u001b[0mC\u001b[0m\u001b[0;34m[\u001b[0m\u001b[0mi\u001b[0m\u001b[0;34m]\u001b[0m \u001b[0;34m=\u001b[0m \u001b[0;34m-\u001b[0m\u001b[0mnp\u001b[0m\u001b[0;34m.\u001b[0m\u001b[0mabs\u001b[0m\u001b[0;34m(\u001b[0m\u001b[0mnp\u001b[0m\u001b[0;34m.\u001b[0m\u001b[0mcorrcoef\u001b[0m\u001b[0;34m(\u001b[0m\u001b[0mB\u001b[0m\u001b[0;34m,\u001b[0m \u001b[0mA\u001b[0m\u001b[0;34m,\u001b[0m \u001b[0mrowvar\u001b[0m\u001b[0;34m=\u001b[0m\u001b[0;32mFalse\u001b[0m\u001b[0;34m)\u001b[0m\u001b[0;34m[\u001b[0m\u001b[0mi\u001b[0m\u001b[0;34m,\u001b[0m\u001b[0mlatent_size\u001b[0m\u001b[0;34m:\u001b[0m\u001b[0;34m]\u001b[0m\u001b[0;34m)\u001b[0m\u001b[0;34m\u001b[0m\u001b[0;34m\u001b[0m\u001b[0m\n\u001b[0m\u001b[1;32m      8\u001b[0m \u001b[0;32mfrom\u001b[0m \u001b[0mscipy\u001b[0m\u001b[0;34m.\u001b[0m\u001b[0moptimize\u001b[0m \u001b[0;32mimport\u001b[0m \u001b[0mlinear_sum_assignment\u001b[0m\u001b[0;34m\u001b[0m\u001b[0;34m\u001b[0m\u001b[0m\n\u001b[1;32m      9\u001b[0m \u001b[0mrow_ind\u001b[0m\u001b[0;34m,\u001b[0m \u001b[0mcol_ind\u001b[0m \u001b[0;34m=\u001b[0m \u001b[0mlinear_sum_assignment\u001b[0m\u001b[0;34m(\u001b[0m\u001b[0mC\u001b[0m\u001b[0;34m)\u001b[0m\u001b[0;34m\u001b[0m\u001b[0;34m\u001b[0m\u001b[0m\n",
      "\u001b[0;31mValueError\u001b[0m: could not broadcast input array from shape (2,) into shape (8,)"
     ]
    }
   ],
   "source": [
    "z, mu, logvar = model.forward(batch)\n",
    "mu = mu.view(batch_size, -1, latent_size)\n",
    "A = mu[:,2,:].detach().cpu().numpy()\n",
    "B = batch['yt'][:,2,:].detach().cpu().numpy()\n",
    "C = np.zeros((latent_size,latent_size))\n",
    "for i in range(latent_size):\n",
    "    C[i] = -np.abs(np.corrcoef(B, A, rowvar=False)[i,latent_size:])\n",
    "from scipy.optimize import linear_sum_assignment\n",
    "row_ind, col_ind = linear_sum_assignment(C)\n",
    "A = A[:, col_ind]\n",
    "mask = np.ones(latent_size)\n",
    "for i in range(latent_size):\n",
    "    if np.corrcoef(B, A, rowvar=False)[i,latent_size:][i] > 0:\n",
    "        mask[i] = -1\n",
    "print(\"Permutation:\",col_ind)\n",
    "print(\"Sign Flip:\", mask)"
   ]
  },
  {
   "cell_type": "code",
   "execution_count": null,
   "metadata": {},
   "outputs": [],
   "source": [
    "C = np.zeros((latent_size,latent_size))\n",
    "for i in range(latent_size):\n",
    "    C[i] = -np.abs(np.corrcoef(B, A, rowvar=False)[i,latent_size:])\n",
    "from scipy.optimize import linear_sum_assignment\n",
    "row_ind, col_ind = linear_sum_assignment(C)\n",
    "A = A[:, col_ind]\n",
    "mask = np.ones(latent_size)\n",
    "for i in range(latent_size):\n",
    "    if np.corrcoef(B, A, rowvar=False)[i,latent_size:][i] > 0:\n",
    "        mask[i] = -1\n",
    "print(\"Permutation:\",col_ind)\n",
    "print(\"Sign Flip:\", mask)"
   ]
  },
  {
   "cell_type": "code",
   "execution_count": 33,
   "metadata": {},
   "outputs": [],
   "source": [
    "figure_path = '/home/weiran/figs/'"
   ]
  },
  {
   "cell_type": "code",
   "execution_count": 34,
   "metadata": {},
   "outputs": [
    {
     "data": {
      "image/png": "[encoded data removed]",
      "text/plain": [
       "<Figure size 288x288 with 1 Axes>"
      ]
     },
     "metadata": {
      "needs_background": "light"
     },
     "output_type": "display_data"
    }
   ],
   "source": [
    "from matplotlib.backends.backend_pdf import PdfPages\n",
    "with PdfPages(figure_path + '/mcc_change.pdf') as pdf:\n",
    "    fig = plt.figure(figsize=(4,4))\n",
    "    sns.heatmap(-C, vmin=0, vmax=1, annot=True, fmt=\".2f\", linewidths=.5, cbar=False, cmap='Greens')\n",
    "    plt.xlabel(\"Estimated latents \") \n",
    "    plt.ylabel(\"True latents \") \n",
    "    plt.title(\"MCC=%.3f\"%np.abs(C[row_ind, col_ind]).mean());\n",
    "    pdf.savefig(fig, bbox_inches=\"tight\")"
   ]
  },
  {
   "cell_type": "code",
   "execution_count": 35,
   "metadata": {},
   "outputs": [
    {
     "data": {
      "image/png": "[encoded data removed]",
      "text/plain": [
       "<Figure size 144x288 with 8 Axes>"
      ]
     },
     "metadata": {
      "needs_background": "light"
     },
     "output_type": "display_data"
    }
   ],
   "source": [
    "fig, axs = plt.subplots(4,2, figsize=(2,4))\n",
    "with PdfPages(figure_path + '/scatter_change.pdf') as pdf:\n",
    "    for i in range(8):\n",
    "        row = i // 2\n",
    "        col = i % 2\n",
    "        ax = axs[row,col]\n",
    "        ax.scatter(B[:,i], A[:,i], s=4, color='b', alpha=0.25)\n",
    "        ax.axis('off')\n",
    "    #     ax.set_xlabel('Ground truth latent')\n",
    "    #     ax.set_ylabel('Estimated latent')\n",
    "    #     ax.grid('..')\n",
    "    # fig.tight_layout()\n",
    "    fig.supxlabel('True latents')\n",
    "    fig.supylabel('Estimated latents')\n",
    "    pdf.savefig(fig, bbox_inches=\"tight\")"
   ]
  },
  {
   "cell_type": "code",
   "execution_count": 159,
   "metadata": {},
   "outputs": [],
   "source": [
    "class FewShotTransfer(nn.Module):\n",
    "    \n",
    "    def __init__(self, vae_model, embed_dims=2):\n",
    "        super().__init__()\n",
    "        self.model = vae_model\n",
    "        for param in self.model.parameters():\n",
    "            # Freeze\n",
    "            param.requires_grad = False\n",
    "        self.embedding = nn.Parameter(torch.zeros(1,embed_dims))\n",
    "    \n",
    "    def forward(self, x):\n",
    "        batch_size = x['yt'].shape[0]\n",
    "        embeddings = self.embedding.repeat(batch_size, 1)\n",
    "        loss = self.model.transfer(x, embeddings)\n",
    "        return loss"
   ]
  },
  {
   "cell_type": "code",
   "execution_count": 235,
   "metadata": {},
   "outputs": [],
   "source": [
    "shots = 16"
   ]
  },
  {
   "cell_type": "code",
   "execution_count": 236,
   "metadata": {},
   "outputs": [],
   "source": [
    "target_data = CartpoleDataset(directory = '/srv/data/lily/data', \n",
    "                       dataset='cartpole')\n",
    "num_validation_samples = 2500\n",
    "train_data, val_data = random_split(target_data, [len(target_data)-num_validation_samples, num_validation_samples])\n",
    "target_train_loader = DataLoader(train_data, batch_size=shots, shuffle=False, pin_memory=True)\n",
    "target_val_loader   = DataLoader(val_data, batch_size=16, shuffle=False, pin_memory=True)"
   ]
  },
  {
   "cell_type": "code",
   "execution_count": 237,
   "metadata": {},
   "outputs": [],
   "source": [
    "batch = next(iter(target_train_loader))\n",
    "batch_size = batch['xt'].shape[0]"
   ]
  },
  {
   "cell_type": "code",
   "execution_count": 238,
   "metadata": {},
   "outputs": [],
   "source": [
    "# for key in batch:\n",
    "#     batch[key] = batch[key].cuda()"
   ]
  },
  {
   "cell_type": "code",
   "execution_count": 255,
   "metadata": {},
   "outputs": [],
   "source": [
    "transfer_model = FewShotTransfer(model, 1)\n",
    "# transfer_model = transfer_model.cuda()"
   ]
  },
  {
   "cell_type": "code",
   "execution_count": 256,
   "metadata": {},
   "outputs": [],
   "source": [
    "optimizer = torch.optim.Adam(filter(lambda p: p.requires_grad, transfer_model.parameters()), \n",
    "                             lr=0.001)"
   ]
  },
  {
   "cell_type": "code",
   "execution_count": 257,
   "metadata": {},
   "outputs": [],
   "source": [
    "transfer_model = transfer_model.cpu()"
   ]
  },
  {
   "cell_type": "code",
   "execution_count": 258,
   "metadata": {
    "scrolled": true
   },
   "outputs": [
    {
     "name": "stdout",
     "output_type": "stream",
     "text": [
      "tensor(9.6823) tensor([[0.]])\n",
      "tensor(9.6823) tensor([[-0.0010]])\n",
      "tensor(9.6823) tensor([[-0.0020]])\n",
      "tensor(9.6823) tensor([[-0.0030]])\n",
      "tensor(9.6823) tensor([[-0.0040]])\n",
      "tensor(9.6822) tensor([[-0.0050]])\n",
      "tensor(9.6822) tensor([[-0.0060]])\n",
      "tensor(9.6822) tensor([[-0.0070]])\n",
      "tensor(9.6822) tensor([[-0.0079]])\n",
      "tensor(9.6822) tensor([[-0.0089]])\n",
      "tensor(9.6822) tensor([[-0.0098]])\n",
      "tensor(9.6822) tensor([[-0.0108]])\n",
      "tensor(9.6822) tensor([[-0.0117]])\n",
      "tensor(9.6822) tensor([[-0.0127]])\n",
      "tensor(9.6822) tensor([[-0.0136]])\n",
      "tensor(9.6822) tensor([[-0.0146]])\n",
      "tensor(9.6822) tensor([[-0.0156]])\n",
      "tensor(9.6822) tensor([[-0.0165]])\n",
      "tensor(9.6822) tensor([[-0.0175]])\n",
      "tensor(9.6822) tensor([[-0.0185]])\n",
      "tensor(9.6822) tensor([[-0.0195]])\n",
      "tensor(9.6822) tensor([[-0.0204]])\n",
      "tensor(9.6822) tensor([[-0.0214]])\n",
      "tensor(9.6822) tensor([[-0.0224]])\n",
      "tensor(9.6821) tensor([[-0.0234]])\n",
      "tensor(9.6821) tensor([[-0.0244]])\n",
      "tensor(9.6821) tensor([[-0.0254]])\n",
      "tensor(9.6821) tensor([[-0.0264]])\n",
      "tensor(9.6821) tensor([[-0.0274]])\n",
      "tensor(9.6821) tensor([[-0.0284]])\n",
      "tensor(9.6821) tensor([[-0.0294]])\n",
      "tensor(9.6821) tensor([[-0.0304]])\n",
      "tensor(9.6821) tensor([[-0.0313]])\n",
      "tensor(9.6821) tensor([[-0.0323]])\n",
      "tensor(9.6821) tensor([[-0.0333]])\n",
      "tensor(9.6821) tensor([[-0.0343]])\n",
      "tensor(9.6821) tensor([[-0.0353]])\n",
      "tensor(9.6821) tensor([[-0.0363]])\n",
      "tensor(9.6821) tensor([[-0.0373]])\n",
      "tensor(9.6821) tensor([[-0.0383]])\n",
      "tensor(9.6821) tensor([[-0.0393]])\n",
      "tensor(9.6821) tensor([[-0.0403]])\n",
      "tensor(9.6820) tensor([[-0.0412]])\n",
      "tensor(9.6820) tensor([[-0.0422]])\n",
      "tensor(9.6820) tensor([[-0.0432]])\n",
      "tensor(9.6820) tensor([[-0.0442]])\n",
      "tensor(9.6820) tensor([[-0.0452]])\n",
      "tensor(9.6820) tensor([[-0.0462]])\n",
      "tensor(9.6820) tensor([[-0.0471]])\n",
      "tensor(9.6820) tensor([[-0.0481]])\n",
      "tensor(9.6820) tensor([[-0.0491]])\n",
      "tensor(9.6820) tensor([[-0.0500]])\n",
      "tensor(9.6820) tensor([[-0.0510]])\n",
      "tensor(9.6820) tensor([[-0.0520]])\n",
      "tensor(9.6820) tensor([[-0.0529]])\n",
      "tensor(9.6820) tensor([[-0.0539]])\n",
      "tensor(9.6820) tensor([[-0.0548]])\n",
      "tensor(9.6820) tensor([[-0.0558]])\n",
      "tensor(9.6820) tensor([[-0.0567]])\n",
      "tensor(9.6820) tensor([[-0.0577]])\n",
      "tensor(9.6820) tensor([[-0.0587]])\n",
      "tensor(9.6819) tensor([[-0.0597]])\n",
      "tensor(9.6819) tensor([[-0.0606]])\n",
      "tensor(9.6819) tensor([[-0.0616]])\n",
      "tensor(9.6819) tensor([[-0.0626]])\n",
      "tensor(9.6819) tensor([[-0.0636]])\n",
      "tensor(9.6819) tensor([[-0.0647]])\n",
      "tensor(9.6819) tensor([[-0.0657]])\n",
      "tensor(9.6819) tensor([[-0.0667]])\n",
      "tensor(9.6819) tensor([[-0.0677]])\n",
      "tensor(9.6819) tensor([[-0.0688]])\n",
      "tensor(9.6819) tensor([[-0.0698]])\n",
      "tensor(9.6819) tensor([[-0.0709]])\n",
      "tensor(9.6819) tensor([[-0.0719]])\n",
      "tensor(9.6819) tensor([[-0.0730]])\n",
      "tensor(9.6819) tensor([[-0.0740]])\n",
      "tensor(9.6819) tensor([[-0.0751]])\n",
      "tensor(9.6818) tensor([[-0.0761]])\n",
      "tensor(9.6818) tensor([[-0.0772]])\n",
      "tensor(9.6818) tensor([[-0.0782]])\n",
      "tensor(9.6818) tensor([[-0.0793]])\n",
      "tensor(9.6818) tensor([[-0.0803]])\n",
      "tensor(9.6818) tensor([[-0.0814]])\n",
      "tensor(9.6818) tensor([[-0.0824]])\n",
      "tensor(9.6818) tensor([[-0.0835]])\n",
      "tensor(9.6818) tensor([[-0.0845]])\n",
      "tensor(9.6818) tensor([[-0.0856]])\n",
      "tensor(9.6818) tensor([[-0.0866]])\n",
      "tensor(9.6818) tensor([[-0.0877]])\n",
      "tensor(9.6818) tensor([[-0.0887]])\n",
      "tensor(9.6818) tensor([[-0.0898]])\n",
      "tensor(9.6818) tensor([[-0.0908]])\n",
      "tensor(9.6818) tensor([[-0.0919]])\n",
      "tensor(9.6817) tensor([[-0.0929]])\n",
      "tensor(9.6817) tensor([[-0.0939]])\n",
      "tensor(9.6817) tensor([[-0.0949]])\n",
      "tensor(9.6817) tensor([[-0.0959]])\n",
      "tensor(9.6817) tensor([[-0.0970]])\n",
      "tensor(9.6817) tensor([[-0.0979]])\n",
      "tensor(9.6817) tensor([[-0.0989]])\n"
     ]
    }
   ],
   "source": [
    "for i in range(100):\n",
    "    loss = transfer_model(batch)\n",
    "    print(loss.detach(), transfer_model.embedding.detach().cpu())\n",
    "    # Backpropagation\n",
    "    optimizer.zero_grad()\n",
    "    loss.backward()\n",
    "    optimizer.step()"
   ]
  },
  {
   "cell_type": "code",
   "execution_count": null,
   "metadata": {},
   "outputs": [],
   "source": [
    "16 samples: 0.4605\n"
   ]
  },
  {
   "cell_type": "code",
   "execution_count": null,
   "metadata": {},
   "outputs": [],
   "source": [
    "[ 0.4463, -0.1148]"
   ]
  },
  {
   "cell_type": "code",
   "execution_count": 77,
   "metadata": {
    "scrolled": true
   },
   "outputs": [
    {
     "data": {
      "text/plain": [
       "tensor(2.5160, grad_fn=<AddBackward0>)"
      ]
     },
     "execution_count": 77,
     "metadata": {},
     "output_type": "execute_result"
    }
   ],
   "source": [
    "transfer_model(batch)"
   ]
  },
  {
   "cell_type": "code",
   "execution_count": null,
   "metadata": {},
   "outputs": [],
   "source": [
    "NL + Generalized Gaussian Noise"
   ]
  },
  {
   "cell_type": "code",
   "execution_count": 188,
   "metadata": {},
   "outputs": [],
   "source": [
    "theta_dyn = np.zeros((5,2))\n",
    "for d_idx in range(5):\n",
    "    W2 = np.load('/srv/data/lily/data/pnl_modular_5/source/W2_%d.npy'%d_idx)\n",
    "    theta_dyn[d_idx, 0] = W2[1,2]\n",
    "    theta_dyn[d_idx, 1] = W2[3,4]"
   ]
  },
  {
   "cell_type": "code",
   "execution_count": 189,
   "metadata": {},
   "outputs": [],
   "source": [
    "theta_hat = model.dyn_embed_func(torch.LongTensor([0,1,2,3,4])).detach().numpy()"
   ]
  },
  {
   "cell_type": "code",
   "execution_count": 190,
   "metadata": {},
   "outputs": [],
   "source": [
    "from matplotlib.patches import FancyArrowPatch "
   ]
  },
  {
   "cell_type": "code",
   "execution_count": 191,
   "metadata": {},
   "outputs": [],
   "source": [
    "from matplotlib.patches import FancyArrowPatch "
   ]
  },
  {
   "cell_type": "code",
   "execution_count": 345,
   "metadata": {},
   "outputs": [
    {
     "data": {
      "image/png": "[encoded data removed]",
      "text/plain": [
       "<Figure size 216x216 with 1 Axes>"
      ]
     },
     "metadata": {
      "needs_background": "light"
     },
     "output_type": "display_data"
    }
   ],
   "source": [
    "theta_hat = theta_hat.detach().numpy()\n",
    "theta_dyn = theta_dyn.detach().numpy()\n",
    "\n",
    "fig, ax = plt.subplots(figsize=(3,3))\n",
    "ax.set_aspect(\"equal\")\n",
    "ax.plot(theta_hat[:,0], theta_hat[:,1], color='red', label='Estimated')\n",
    "ax.plot(theta_dyn[:,0], theta_dyn[:,1], color='gray', label='Matrix entries')\n",
    "arrow(theta_hat[:,0], theta_hat[:,1], ax, 3)\n",
    "arrow(theta_dyn[:,0], theta_dyn[:,1], ax, 3)\n",
    "plt.tight_layout()\n",
    "plt.legend()\n",
    "plt.grid()\n",
    "plt.xlabel(r'$\\theta_{k1}^{dyn}$')\n",
    "plt.ylabel(r'$\\theta_{k2}^{dyn}$')\n",
    "plt.title('Trace of change factors')\n",
    "def arrow(x,y,ax,n):\n",
    "    d = len(x)//(n+1)    \n",
    "    ind = np.arange(d,len(x),d)\n",
    "    for i in ind:\n",
    "        ar = FancyArrowPatch ((x[i-1],y[i-1]),(x[i],y[i]), \n",
    "                              arrowstyle='->', mutation_scale=20)\n",
    "        ax.add_patch(ar)"
   ]
  },
  {
   "cell_type": "code",
   "execution_count": 359,
   "metadata": {},
   "outputs": [
    {
     "data": {
      "text/plain": [
       "array([[ 0.7634366 ,  0.5584793 ],\n",
       "       [-0.02744316,  0.16442966]], dtype=float32)"
      ]
     },
     "execution_count": 359,
     "metadata": {},
     "output_type": "execute_result"
    }
   ],
   "source": [
    "np.linalg.inv(theta_hat.T @ theta_hat) @ (theta_hat.T @ theta_dyn)"
   ]
  },
  {
   "cell_type": "code",
   "execution_count": 355,
   "metadata": {},
   "outputs": [],
   "source": [
    "R = np.random.rand(2,2)"
   ]
  },
  {
   "cell_type": "code",
   "execution_count": 357,
   "metadata": {},
   "outputs": [
    {
     "data": {
      "text/plain": [
       "array([[-0.69237621, -0.19672908],\n",
       "       [-0.36935343, -0.41940991],\n",
       "       [-0.10224308, -1.41819704],\n",
       "       [ 0.48799991, -0.15370551],\n",
       "       [ 0.2149604 , -1.14880499]])"
      ]
     },
     "execution_count": 357,
     "metadata": {},
     "output_type": "execute_result"
    }
   ],
   "source": [
    "(theta_hat - theta_dyn @ R)"
   ]
  },
  {
   "cell_type": "code",
   "execution_count": null,
   "metadata": {},
   "outputs": [],
   "source": [
    "5,2 "
   ]
  },
  {
   "cell_type": "code",
   "execution_count": 358,
   "metadata": {},
   "outputs": [
    {
     "data": {
      "text/plain": [
       "(5, 2)"
      ]
     },
     "execution_count": 358,
     "metadata": {},
     "output_type": "execute_result"
    }
   ],
   "source": [
    "theta_dyn.shape"
   ]
  },
  {
   "cell_type": "code",
   "execution_count": 290,
   "metadata": {},
   "outputs": [
    {
     "data": {
      "text/plain": [
       "Parameter containing:\n",
       "tensor([-0.2278], requires_grad=True)"
      ]
     },
     "execution_count": 290,
     "metadata": {},
     "output_type": "execute_result"
    }
   ],
   "source": [
    "rotation"
   ]
  },
  {
   "cell_type": "code",
   "execution_count": 270,
   "metadata": {},
   "outputs": [
    {
     "data": {
      "text/plain": [
       "tensor([0.])"
      ]
     },
     "execution_count": 270,
     "metadata": {},
     "output_type": "execute_result"
    }
   ],
   "source": [
    "rotation.grad"
   ]
  },
  {
   "cell_type": "code",
   "execution_count": 255,
   "metadata": {},
   "outputs": [
    {
     "name": "stderr",
     "output_type": "stream",
     "text": [
      "/tmp/ipykernel_2979/960937127.py:1: UserWarning: The .grad attribute of a Tensor that is not a leaf Tensor is being accessed. Its .grad attribute won't be populated during autograd.backward(). If you indeed want the gradient for a non-leaf Tensor, use .retain_grad() on the non-leaf Tensor. If you access the non-leaf Tensor by mistake, make sure you access the leaf Tensor instead. See github.com/pytorch/pytorch/pull/30531 for more informations.\n",
      "  rotation.data.add_(-1, rotation.grad)\n"
     ]
    },
    {
     "ename": "TypeError",
     "evalue": "add_() takes 1 positional argument but 2 were given",
     "output_type": "error",
     "traceback": [
      "\u001b[0;31m---------------------------------------------------------------------------\u001b[0m",
      "\u001b[0;31mTypeError\u001b[0m                                 Traceback (most recent call last)",
      "\u001b[0;32m/tmp/ipykernel_2979/960937127.py\u001b[0m in \u001b[0;36m<module>\u001b[0;34m\u001b[0m\n\u001b[0;32m----> 1\u001b[0;31m \u001b[0mrotation\u001b[0m\u001b[0;34m.\u001b[0m\u001b[0mdata\u001b[0m\u001b[0;34m.\u001b[0m\u001b[0madd_\u001b[0m\u001b[0;34m(\u001b[0m\u001b[0;34m-\u001b[0m\u001b[0;36m1\u001b[0m\u001b[0;34m,\u001b[0m \u001b[0mrotation\u001b[0m\u001b[0;34m.\u001b[0m\u001b[0mgrad\u001b[0m\u001b[0;34m)\u001b[0m\u001b[0;34m\u001b[0m\u001b[0;34m\u001b[0m\u001b[0m\n\u001b[0m",
      "\u001b[0;31mTypeError\u001b[0m: add_() takes 1 positional argument but 2 were given"
     ]
    }
   ],
   "source": [
    "rotation.data.add_(-1, rotation.grad)"
   ]
  },
  {
   "cell_type": "code",
   "execution_count": 247,
   "metadata": {},
   "outputs": [
    {
     "name": "stderr",
     "output_type": "stream",
     "text": [
      "/tmp/ipykernel_2979/587205299.py:1: UserWarning: The .grad attribute of a Tensor that is not a leaf Tensor is being accessed. Its .grad attribute won't be populated during autograd.backward(). If you indeed want the gradient for a non-leaf Tensor, use .retain_grad() on the non-leaf Tensor. If you access the non-leaf Tensor by mistake, make sure you access the leaf Tensor instead. See github.com/pytorch/pytorch/pull/30531 for more informations.\n",
      "  rotation.grad[0]\n"
     ]
    },
    {
     "ename": "TypeError",
     "evalue": "'NoneType' object is not subscriptable",
     "output_type": "error",
     "traceback": [
      "\u001b[0;31m---------------------------------------------------------------------------\u001b[0m",
      "\u001b[0;31mTypeError\u001b[0m                                 Traceback (most recent call last)",
      "\u001b[0;32m/tmp/ipykernel_2979/587205299.py\u001b[0m in \u001b[0;36m<module>\u001b[0;34m\u001b[0m\n\u001b[0;32m----> 1\u001b[0;31m \u001b[0mrotation\u001b[0m\u001b[0;34m.\u001b[0m\u001b[0mgrad\u001b[0m\u001b[0;34m[\u001b[0m\u001b[0;36m0\u001b[0m\u001b[0;34m]\u001b[0m\u001b[0;34m\u001b[0m\u001b[0;34m\u001b[0m\u001b[0m\n\u001b[0m",
      "\u001b[0;31mTypeError\u001b[0m: 'NoneType' object is not subscriptable"
     ]
    }
   ],
   "source": []
  },
  {
   "cell_type": "code",
   "execution_count": 244,
   "metadata": {},
   "outputs": [
    {
     "name": "stderr",
     "output_type": "stream",
     "text": [
      "/tmp/ipykernel_2979/1116664041.py:1: UserWarning: The .grad attribute of a Tensor that is not a leaf Tensor is being accessed. Its .grad attribute won't be populated during autograd.backward(). If you indeed want the gradient for a non-leaf Tensor, use .retain_grad() on the non-leaf Tensor. If you access the non-leaf Tensor by mistake, make sure you access the leaf Tensor instead. See github.com/pytorch/pytorch/pull/30531 for more informations.\n",
      "  rotation.grad\n"
     ]
    }
   ],
   "source": [
    "rotation.grad"
   ]
  },
  {
   "cell_type": "code",
   "execution_count": 240,
   "metadata": {},
   "outputs": [
    {
     "data": {
      "text/plain": [
       "tensor(2.5513)"
      ]
     },
     "execution_count": 240,
     "metadata": {},
     "output_type": "execute_result"
    }
   ],
   "source": [
    "rotation.grad[0]"
   ]
  },
  {
   "cell_type": "code",
   "execution_count": 222,
   "metadata": {},
   "outputs": [],
   "source": []
  },
  {
   "cell_type": "code",
   "execution_count": 225,
   "metadata": {},
   "outputs": [
    {
     "data": {
      "text/plain": [
       "tensor([0.2551])"
      ]
     },
     "execution_count": 225,
     "metadata": {},
     "output_type": "execute_result"
    }
   ],
   "source": [
    "rotation.grad"
   ]
  },
  {
   "cell_type": "code",
   "execution_count": 217,
   "metadata": {},
   "outputs": [
    {
     "data": {
      "text/plain": [
       "tensor(0.4698, grad_fn=<MseLossBackward>)"
      ]
     },
     "execution_count": 217,
     "metadata": {},
     "output_type": "execute_result"
    }
   ],
   "source": [
    "loss"
   ]
  },
  {
   "cell_type": "code",
   "execution_count": 207,
   "metadata": {},
   "outputs": [
    {
     "data": {
      "text/plain": [
       "tensor([[1., 0.],\n",
       "        [-0., 1.]], grad_fn=<CopySlices>)"
      ]
     },
     "execution_count": 207,
     "metadata": {},
     "output_type": "execute_result"
    }
   ],
   "source": [
    "rotation_matrix"
   ]
  },
  {
   "cell_type": "code",
   "execution_count": 202,
   "metadata": {},
   "outputs": [
    {
     "data": {
      "text/plain": [
       "Parameter containing:\n",
       "tensor([0.], requires_grad=True)"
      ]
     },
     "execution_count": 202,
     "metadata": {},
     "output_type": "execute_result"
    }
   ],
   "source": [
    "rotation"
   ]
  },
  {
   "cell_type": "code",
   "execution_count": 194,
   "metadata": {},
   "outputs": [
    {
     "data": {
      "text/plain": [
       "(5, 2)"
      ]
     },
     "execution_count": 194,
     "metadata": {},
     "output_type": "execute_result"
    }
   ],
   "source": [
    "theta_hat.shape"
   ]
  },
  {
   "cell_type": "code",
   "execution_count": null,
   "metadata": {},
   "outputs": [],
   "source": []
  },
  {
   "cell_type": "code",
   "execution_count": 167,
   "metadata": {},
   "outputs": [],
   "source": [
    "MeanMat = np.load('/srv/data/lily/data/pnl_modular_5/source/meanMat.npy')\n",
    "VarMat = np.load('/srv/data/lily/data/pnl_modular_5/source/varMat.npy')"
   ]
  },
  {
   "cell_type": "code",
   "execution_count": 181,
   "metadata": {},
   "outputs": [],
   "source": [
    "theta_obs = np.concatenate((MeanMat,VarMat), axis=-1)"
   ]
  },
  {
   "cell_type": "code",
   "execution_count": 182,
   "metadata": {},
   "outputs": [],
   "source": [
    "theta_hat = model.obs_embed_func(torch.LongTensor([0,1,2,3,4])).detach().numpy()"
   ]
  },
  {
   "cell_type": "code",
   "execution_count": 185,
   "metadata": {},
   "outputs": [
    {
     "data": {
      "text/plain": [
       "Text(0, 0.5, '$\\\\theta_{1k}^{obs}$')"
      ]
     },
     "execution_count": 185,
     "metadata": {},
     "output_type": "execute_result"
    },
    {
     "data": {
      "image/png": "[encoded data removed]",
      "text/plain": [
       "<Figure size 144x144 with 1 Axes>"
      ]
     },
     "metadata": {
      "needs_background": "light"
     },
     "output_type": "display_data"
    }
   ],
   "source": [
    "plt.figure(figsize=(2,2))\n",
    "plt.scatter(theta_obs[:,0], theta_hat[:,0])\n",
    "plt.xlabel('Mean')\n",
    "plt.ylabel(r'$\\theta_{1k}^{obs}$')"
   ]
  },
  {
   "cell_type": "code",
   "execution_count": 187,
   "metadata": {
    "scrolled": true
   },
   "outputs": [
    {
     "data": {
      "text/plain": [
       "Text(0, 0.5, '$\\\\theta_{2k}^{obs}$')"
      ]
     },
     "execution_count": 187,
     "metadata": {},
     "output_type": "execute_result"
    },
    {
     "data": {
      "image/png": "[encoded data removed]",
      "text/plain": [
       "<Figure size 144x144 with 1 Axes>"
      ]
     },
     "metadata": {
      "needs_background": "light"
     },
     "output_type": "display_data"
    }
   ],
   "source": [
    "plt.figure(figsize=(2,2))\n",
    "plt.scatter(theta_obs[:,1], theta_hat[:,1])\n",
    "plt.xlabel('Var')\n",
    "plt.ylabel(r'$\\theta_{2k}^{obs}$')"
   ]
  },
  {
   "cell_type": "code",
   "execution_count": 165,
   "metadata": {},
   "outputs": [
    {
     "data": {
      "image/png": "[encoded data removed]",
      "text/plain": [
       "<Figure size 216x216 with 1 Axes>"
      ]
     },
     "metadata": {
      "needs_background": "light"
     },
     "output_type": "display_data"
    }
   ],
   "source": [
    "fig, ax = plt.subplots(figsize=(3,3))\n",
    "# ax.set_aspect(\"equal\")\n",
    "plt.tight_layout()\n",
    "ax.plot(theta_hat[:,0], theta_hat[:,1], color='red', label='Estimated')\n",
    "ax.plot(theta_obs[:,0], theta_obs[:,1], color='gray', label='Matrix entries')\n",
    "arrow(theta_hat[:,0], theta_hat[:,1], ax, 3)\n",
    "arrow(theta_obs[:,0], theta_obs[:,1], ax, 3)\n",
    "plt.legend()\n",
    "plt.grid()\n",
    "plt.xlabel(r'$\\theta_{k1}^{dyn}$')\n",
    "plt.ylabel(r'$\\theta_{k2}^{dyn}$')\n",
    "plt.title('Trace of change factors')\n",
    "def arrow(x,y,ax,n):\n",
    "    d = len(x)//(n+1)    \n",
    "    ind = np.arange(d,len(x),d)\n",
    "    for i in ind:\n",
    "        ar = FancyArrowPatch ((x[i-1],y[i-1]),(x[i],y[i]), \n",
    "                              arrowstyle='->', mutation_scale=20)\n",
    "        ax.add_patch(ar)"
   ]
  },
  {
   "cell_type": "code",
   "execution_count": null,
   "metadata": {},
   "outputs": [],
   "source": []
  }
 ],
 "metadata": {
  "kernelspec": {
   "display_name": "LTCL",
   "language": "python",
   "name": "ltcl"
  },
  "language_info": {
   "codemirror_mode": {
    "name": "ipython",
    "version": 3
   },
   "file_extension": ".py",
   "mimetype": "text/x-python",
   "name": "python",
   "nbconvert_exporter": "python",
   "pygments_lexer": "ipython3",
   "version": "3.8.10"
  }
 },
 "nbformat": 4,
 "nbformat_minor": 2
}
